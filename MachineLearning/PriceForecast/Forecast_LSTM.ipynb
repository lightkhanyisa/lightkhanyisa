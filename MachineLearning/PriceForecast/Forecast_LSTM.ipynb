{
 "cells": [
  {
   "cell_type": "code",
   "execution_count": null,
   "metadata": {},
   "outputs": [],
   "source": [
    "import numpy as np #for numerical calculations\n",
    "import matplotlib.pyplot as plt \n",
    "import pandas as pd \n",
    "import yfinance as yf \n",
    "import pandas_ta as ta\n",
    "from sklearn.preprocessing import StandardScaler"
   ]
  },
  {
   "cell_type": "code",
   "execution_count": null,
   "metadata": {},
   "outputs": [],
   "source": [
    "ticker = 'GOOG'\n",
    "\n",
    "start  = '2012-01-11'\n",
    "end    = '2023-07-10'\n",
    "\n",
    "\n",
    "data  = yf.download(ticker,start=start,end=end)\n"
   ]
  },
  {
   "cell_type": "code",
   "execution_count": null,
   "metadata": {},
   "outputs": [],
   "source": [
    "#Adding indicators to our data\n",
    "period =15\n",
    "data['RSI'] = ta.rsi(data.Close,length=period)\n",
    "\n",
    "data['EMAF'] = ta.ema(data.Close,length=20)\n",
    "\n",
    "data['EMAM'] = ta.ema(data.Close,length=100)\n",
    "\n",
    "data['EMAS'] = ta.ema(data.Close,length=150)\n",
    "\n",
    "#Create the features \n",
    "data['Target'] = data['Adj Close'].pct_change()\n",
    "data['Target'] = data.Target.shift(-1)"
   ]
  },
  {
   "cell_type": "code",
   "execution_count": null,
   "metadata": {},
   "outputs": [],
   "source": [
    "#create the target class\n",
    "#The data comes after a list comprehension of the pct change\n",
    "\n",
    "data['TargetClass'] = [ 1 if data.Target[i] > 0 else 0 for i in range(len(data))]\n",
    "print(data['TargetClass'])\n",
    "\n",
    "data['TargeNextClose'] = data['Adj Close'].shift(-1)#We then move on to the next close\n"
   ]
  },
  {
   "cell_type": "code",
   "execution_count": null,
   "metadata": {},
   "outputs": [],
   "source": [
    "data.reset_index(inplace=True)\n",
    "data.drop(['Volume','Close','Date'],axis=1,inplace=True)\n",
    "data_set = data.iloc[:,0:11]"
   ]
  },
  {
   "cell_type": "code",
   "execution_count": null,
   "metadata": {},
   "outputs": [],
   "source": [
    "scaler = StandardScaler()\n",
    "data_scaled = scaler.fit_transform(data_set)\n",
    "print(data_scaled)"
   ]
  },
  {
   "cell_type": "code",
   "execution_count": null,
   "metadata": {},
   "outputs": [],
   "source": [
    "#Generating our X and y data\n",
    "\n",
    "X = []\n",
    "backcandles = 30 #Lookback on the last candles\n",
    "#Extract the columns \n",
    "for j in range(8):\n",
    "    X.append([])\n",
    "    for i in range(backcandles,data_scaled.shape[0]):\n",
    "        X[j].append(data_scaled[i-backcandles:i,j])\n",
    "X = np.moveaxis(X,[0],[2])\n",
    "#we are only taking the 30 days and last column for classification\n",
    "X,yi = np.array(X),np.array(data_scaled[backcandles:,-1])\n",
    "y = np.reshape(yi,len(yi),1)"
   ]
  },
  {
   "cell_type": "code",
   "execution_count": null,
   "metadata": {},
   "outputs": [],
   "source": [
    "#Split into training and testing \n",
    "split = int(len(X) * 0.8)\n",
    "\n",
    "x_train , y_train = X[:split] , y[:split]\n",
    "x_test , y_test  = X[split:] , y[split:]"
   ]
  },
  {
   "cell_type": "code",
   "execution_count": null,
   "metadata": {},
   "outputs": [],
   "source": [
    "import tensorflow as tf \n",
    "import keras \n",
    "from keras import optimizers\n",
    "from keras.callbacks import History\n",
    "from keras.models import Model\n",
    "from keras.layers import Dense,Dropout,LSTM,Input,Activation,concatenate\n",
    "np.random.seed(10)\n"
   ]
  },
  {
   "cell_type": "code",
   "execution_count": null,
   "metadata": {},
   "outputs": [],
   "source": [
    "def model(activation='linear'):\n",
    "    #creation of the model and inputs are created \n",
    "    inputs_lstm = Input(shape=(backcandles,8),name='model_inputs')\n",
    "    inputs = LSTM(150,name='first_layer')(inputs_lstm)#creates the model and initializes the shape \n",
    "    inputs = Dense(150,name='dense_layer')(inputs)\n",
    "    output_layer = Activation(activation,name='outputs')(inputs)\n",
    "    model = Model(inputs = inputs_lstm,outputs=output_layer)\n",
    "    adam = optimizers.Adam()\n",
    "    model.compile(optimizer=adam,loss='mse')\n",
    "    model.fit(x=x_train,y=y_train,batch_size=15,epochs=25,shuffle = True,validation_split=0.1)\n",
    "\n",
    "    return model\n",
    "\n"
   ]
  },
  {
   "cell_type": "code",
   "execution_count": null,
   "metadata": {},
   "outputs": [],
   "source": [
    "model = model()\n",
    "y_pred = model.predict(X_test)\n",
    "#evaluate the model predictions\n",
    "for i in range(10):\n",
    "    print(f'Predictions{y_pred[i]}, Actual:{y_test[i]}')\n",
    "\n",
    "#plot the model results\n",
    "plt.figure(figsize=(16,8))\n",
    "plt.plot(y_test,color='blue',label='Test Data')\n",
    "plt.plot(y_pred,color='green',label='Model Predictions')\n",
    "plt.legend()\n",
    "plt.show()\n",
    "\n",
    "    "
   ]
  }
 ],
 "metadata": {
  "language_info": {
   "name": "python"
  }
 },
 "nbformat": 4,
 "nbformat_minor": 2
}
